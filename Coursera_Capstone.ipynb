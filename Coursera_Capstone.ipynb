{
 "cells": [
  {
   "cell_type": "markdown",
   "metadata": {},
   "source": [
    "# Predicting Car Accident Severity "
   ]
  },
  {
   "cell_type": "markdown",
   "metadata": {},
   "source": [
    "### Background\n",
    "\n",
    "The Seattle Department of Transportation (SDOT) has a mission to eliminate all traffic-related deaths and injuries by 2030, also known as the ‘Vision Zero’ program. On average, the city faces 85 cases related to serious-injury or collisions and these numbers are far from achieving SDOT’s target. \n",
    "\n",
    "There is a strong need to reduce the number of cases resulting in serious injuries or deaths in the city. SDOT was heavily critised in recent months for delaying safety improvements, where an elderly man was killed and two girls were hit and injured. \n",
    "\n",
    "\n",
    "\n"
   ]
  },
  {
   "cell_type": "markdown",
   "metadata": {},
   "source": [
    "![Image of Traffic accident](https://static.seattletimes.com/wp-content/uploads/2019/07/trafficinjuries-deaths-chart-W.jpg)"
   ]
  },
  {
   "cell_type": "markdown",
   "metadata": {},
   "source": [
    "### Objective\n",
    "\n",
    "As a result, SDOT has consolidated data which was archived over many years and needed to understand the different combination of conditions (e.g. weather, road conditions, light conditions) that have an effect on accident severity. The data needs to be analysed and trained in order to help them predict the severity of future collisions. The aim here is to reduce the number of accidents related to bodily injuries each year by 10% in the city over the next 10 years in order to achieve 'Vision Zero'. Once the predictive model is deployed, SDOT can communicate the information quickly to drivers via weather channels or updates when they are on the road. The warnings given to the drivers will certainly reduce the risks of encountering collisions in the future.   \n",
    "\n",
    "The hypothesis is that since Seattle experiences Pacific Northwest climate, which is described as wet and mildly cold, the wet weather could be causing a majority of these accidents. "
   ]
  },
  {
   "cell_type": "markdown",
   "metadata": {},
   "source": [
    "### About the data set\n",
    "\n",
    "The data provided by SDOT goes back to 2004 and focuses on details including location of the accident, time, types of collision, road conditions, weather conditions, and number of people count. The target field in this case is \"SEVERITYCODE\", where there are 2 levels.\n",
    "\n",
    "2  - injury<br>\n",
    "1  - prop damage<br>\n",
    "\n"
   ]
  },
  {
   "cell_type": "code",
   "execution_count": 1,
   "metadata": {},
   "outputs": [],
   "source": [
    "import pandas as pd\n",
    "import numpy as np"
   ]
  },
  {
   "cell_type": "code",
   "execution_count": 2,
   "metadata": {},
   "outputs": [],
   "source": [
    "filename = \"https://s3.us.cloud-object-storage.appdomain.cloud/cf-courses-data/CognitiveClass/DP0701EN/version-2/Data-Collisions.csv\""
   ]
  },
  {
   "cell_type": "code",
   "execution_count": 3,
   "metadata": {},
   "outputs": [
    {
     "name": "stderr",
     "output_type": "stream",
     "text": [
      "C:\\Users\\User\\anaconda3\\lib\\site-packages\\IPython\\core\\interactiveshell.py:3071: DtypeWarning: Columns (33) have mixed types.Specify dtype option on import or set low_memory=False.\n",
      "  has_raised = await self.run_ast_nodes(code_ast.body, cell_name,\n"
     ]
    }
   ],
   "source": [
    "df_master = pd.read_csv (filename)"
   ]
  },
  {
   "cell_type": "markdown",
   "metadata": {},
   "source": [
    "### Data understanding"
   ]
  },
  {
   "cell_type": "code",
   "execution_count": 4,
   "metadata": {},
   "outputs": [
    {
     "data": {
      "text/html": [
       "<div>\n",
       "<style scoped>\n",
       "    .dataframe tbody tr th:only-of-type {\n",
       "        vertical-align: middle;\n",
       "    }\n",
       "\n",
       "    .dataframe tbody tr th {\n",
       "        vertical-align: top;\n",
       "    }\n",
       "\n",
       "    .dataframe thead th {\n",
       "        text-align: right;\n",
       "    }\n",
       "</style>\n",
       "<table border=\"1\" class=\"dataframe\">\n",
       "  <thead>\n",
       "    <tr style=\"text-align: right;\">\n",
       "      <th></th>\n",
       "      <th>SEVERITYCODE</th>\n",
       "      <th>X</th>\n",
       "      <th>Y</th>\n",
       "      <th>OBJECTID</th>\n",
       "      <th>INCKEY</th>\n",
       "      <th>COLDETKEY</th>\n",
       "      <th>REPORTNO</th>\n",
       "      <th>STATUS</th>\n",
       "      <th>ADDRTYPE</th>\n",
       "      <th>INTKEY</th>\n",
       "      <th>...</th>\n",
       "      <th>ROADCOND</th>\n",
       "      <th>LIGHTCOND</th>\n",
       "      <th>PEDROWNOTGRNT</th>\n",
       "      <th>SDOTCOLNUM</th>\n",
       "      <th>SPEEDING</th>\n",
       "      <th>ST_COLCODE</th>\n",
       "      <th>ST_COLDESC</th>\n",
       "      <th>SEGLANEKEY</th>\n",
       "      <th>CROSSWALKKEY</th>\n",
       "      <th>HITPARKEDCAR</th>\n",
       "    </tr>\n",
       "  </thead>\n",
       "  <tbody>\n",
       "    <tr>\n",
       "      <th>0</th>\n",
       "      <td>2</td>\n",
       "      <td>-122.323148</td>\n",
       "      <td>47.703140</td>\n",
       "      <td>1</td>\n",
       "      <td>1307</td>\n",
       "      <td>1307</td>\n",
       "      <td>3502005</td>\n",
       "      <td>Matched</td>\n",
       "      <td>Intersection</td>\n",
       "      <td>37475.0</td>\n",
       "      <td>...</td>\n",
       "      <td>Wet</td>\n",
       "      <td>Daylight</td>\n",
       "      <td>NaN</td>\n",
       "      <td>NaN</td>\n",
       "      <td>NaN</td>\n",
       "      <td>10</td>\n",
       "      <td>Entering at angle</td>\n",
       "      <td>0</td>\n",
       "      <td>0</td>\n",
       "      <td>N</td>\n",
       "    </tr>\n",
       "    <tr>\n",
       "      <th>1</th>\n",
       "      <td>1</td>\n",
       "      <td>-122.347294</td>\n",
       "      <td>47.647172</td>\n",
       "      <td>2</td>\n",
       "      <td>52200</td>\n",
       "      <td>52200</td>\n",
       "      <td>2607959</td>\n",
       "      <td>Matched</td>\n",
       "      <td>Block</td>\n",
       "      <td>NaN</td>\n",
       "      <td>...</td>\n",
       "      <td>Wet</td>\n",
       "      <td>Dark - Street Lights On</td>\n",
       "      <td>NaN</td>\n",
       "      <td>6354039.0</td>\n",
       "      <td>NaN</td>\n",
       "      <td>11</td>\n",
       "      <td>From same direction - both going straight - bo...</td>\n",
       "      <td>0</td>\n",
       "      <td>0</td>\n",
       "      <td>N</td>\n",
       "    </tr>\n",
       "    <tr>\n",
       "      <th>2</th>\n",
       "      <td>1</td>\n",
       "      <td>-122.334540</td>\n",
       "      <td>47.607871</td>\n",
       "      <td>3</td>\n",
       "      <td>26700</td>\n",
       "      <td>26700</td>\n",
       "      <td>1482393</td>\n",
       "      <td>Matched</td>\n",
       "      <td>Block</td>\n",
       "      <td>NaN</td>\n",
       "      <td>...</td>\n",
       "      <td>Dry</td>\n",
       "      <td>Daylight</td>\n",
       "      <td>NaN</td>\n",
       "      <td>4323031.0</td>\n",
       "      <td>NaN</td>\n",
       "      <td>32</td>\n",
       "      <td>One parked--one moving</td>\n",
       "      <td>0</td>\n",
       "      <td>0</td>\n",
       "      <td>N</td>\n",
       "    </tr>\n",
       "    <tr>\n",
       "      <th>3</th>\n",
       "      <td>1</td>\n",
       "      <td>-122.334803</td>\n",
       "      <td>47.604803</td>\n",
       "      <td>4</td>\n",
       "      <td>1144</td>\n",
       "      <td>1144</td>\n",
       "      <td>3503937</td>\n",
       "      <td>Matched</td>\n",
       "      <td>Block</td>\n",
       "      <td>NaN</td>\n",
       "      <td>...</td>\n",
       "      <td>Dry</td>\n",
       "      <td>Daylight</td>\n",
       "      <td>NaN</td>\n",
       "      <td>NaN</td>\n",
       "      <td>NaN</td>\n",
       "      <td>23</td>\n",
       "      <td>From same direction - all others</td>\n",
       "      <td>0</td>\n",
       "      <td>0</td>\n",
       "      <td>N</td>\n",
       "    </tr>\n",
       "    <tr>\n",
       "      <th>4</th>\n",
       "      <td>2</td>\n",
       "      <td>-122.306426</td>\n",
       "      <td>47.545739</td>\n",
       "      <td>5</td>\n",
       "      <td>17700</td>\n",
       "      <td>17700</td>\n",
       "      <td>1807429</td>\n",
       "      <td>Matched</td>\n",
       "      <td>Intersection</td>\n",
       "      <td>34387.0</td>\n",
       "      <td>...</td>\n",
       "      <td>Wet</td>\n",
       "      <td>Daylight</td>\n",
       "      <td>NaN</td>\n",
       "      <td>4028032.0</td>\n",
       "      <td>NaN</td>\n",
       "      <td>10</td>\n",
       "      <td>Entering at angle</td>\n",
       "      <td>0</td>\n",
       "      <td>0</td>\n",
       "      <td>N</td>\n",
       "    </tr>\n",
       "  </tbody>\n",
       "</table>\n",
       "<p>5 rows × 38 columns</p>\n",
       "</div>"
      ],
      "text/plain": [
       "   SEVERITYCODE           X          Y  OBJECTID  INCKEY  COLDETKEY REPORTNO  \\\n",
       "0             2 -122.323148  47.703140         1    1307       1307  3502005   \n",
       "1             1 -122.347294  47.647172         2   52200      52200  2607959   \n",
       "2             1 -122.334540  47.607871         3   26700      26700  1482393   \n",
       "3             1 -122.334803  47.604803         4    1144       1144  3503937   \n",
       "4             2 -122.306426  47.545739         5   17700      17700  1807429   \n",
       "\n",
       "    STATUS      ADDRTYPE   INTKEY  ... ROADCOND                LIGHTCOND  \\\n",
       "0  Matched  Intersection  37475.0  ...      Wet                 Daylight   \n",
       "1  Matched         Block      NaN  ...      Wet  Dark - Street Lights On   \n",
       "2  Matched         Block      NaN  ...      Dry                 Daylight   \n",
       "3  Matched         Block      NaN  ...      Dry                 Daylight   \n",
       "4  Matched  Intersection  34387.0  ...      Wet                 Daylight   \n",
       "\n",
       "  PEDROWNOTGRNT  SDOTCOLNUM SPEEDING ST_COLCODE  \\\n",
       "0           NaN         NaN      NaN         10   \n",
       "1           NaN   6354039.0      NaN         11   \n",
       "2           NaN   4323031.0      NaN         32   \n",
       "3           NaN         NaN      NaN         23   \n",
       "4           NaN   4028032.0      NaN         10   \n",
       "\n",
       "                                          ST_COLDESC  SEGLANEKEY  \\\n",
       "0                                  Entering at angle           0   \n",
       "1  From same direction - both going straight - bo...           0   \n",
       "2                             One parked--one moving           0   \n",
       "3                   From same direction - all others           0   \n",
       "4                                  Entering at angle           0   \n",
       "\n",
       "   CROSSWALKKEY  HITPARKEDCAR  \n",
       "0             0             N  \n",
       "1             0             N  \n",
       "2             0             N  \n",
       "3             0             N  \n",
       "4             0             N  \n",
       "\n",
       "[5 rows x 38 columns]"
      ]
     },
     "execution_count": 4,
     "metadata": {},
     "output_type": "execute_result"
    }
   ],
   "source": [
    "df_master.head(5)"
   ]
  },
  {
   "cell_type": "code",
   "execution_count": 5,
   "metadata": {},
   "outputs": [
    {
     "name": "stdout",
     "output_type": "stream",
     "text": [
      "<class 'pandas.core.frame.DataFrame'>\n",
      "RangeIndex: 194673 entries, 0 to 194672\n",
      "Data columns (total 38 columns):\n",
      " #   Column          Non-Null Count   Dtype  \n",
      "---  ------          --------------   -----  \n",
      " 0   SEVERITYCODE    194673 non-null  int64  \n",
      " 1   X               189339 non-null  float64\n",
      " 2   Y               189339 non-null  float64\n",
      " 3   OBJECTID        194673 non-null  int64  \n",
      " 4   INCKEY          194673 non-null  int64  \n",
      " 5   COLDETKEY       194673 non-null  int64  \n",
      " 6   REPORTNO        194673 non-null  object \n",
      " 7   STATUS          194673 non-null  object \n",
      " 8   ADDRTYPE        192747 non-null  object \n",
      " 9   INTKEY          65070 non-null   float64\n",
      " 10  LOCATION        191996 non-null  object \n",
      " 11  EXCEPTRSNCODE   84811 non-null   object \n",
      " 12  EXCEPTRSNDESC   5638 non-null    object \n",
      " 13  SEVERITYCODE.1  194673 non-null  int64  \n",
      " 14  SEVERITYDESC    194673 non-null  object \n",
      " 15  COLLISIONTYPE   189769 non-null  object \n",
      " 16  PERSONCOUNT     194673 non-null  int64  \n",
      " 17  PEDCOUNT        194673 non-null  int64  \n",
      " 18  PEDCYLCOUNT     194673 non-null  int64  \n",
      " 19  VEHCOUNT        194673 non-null  int64  \n",
      " 20  INCDATE         194673 non-null  object \n",
      " 21  INCDTTM         194673 non-null  object \n",
      " 22  JUNCTIONTYPE    188344 non-null  object \n",
      " 23  SDOT_COLCODE    194673 non-null  int64  \n",
      " 24  SDOT_COLDESC    194673 non-null  object \n",
      " 25  INATTENTIONIND  29805 non-null   object \n",
      " 26  UNDERINFL       189789 non-null  object \n",
      " 27  WEATHER         189592 non-null  object \n",
      " 28  ROADCOND        189661 non-null  object \n",
      " 29  LIGHTCOND       189503 non-null  object \n",
      " 30  PEDROWNOTGRNT   4667 non-null    object \n",
      " 31  SDOTCOLNUM      114936 non-null  float64\n",
      " 32  SPEEDING        9333 non-null    object \n",
      " 33  ST_COLCODE      194655 non-null  object \n",
      " 34  ST_COLDESC      189769 non-null  object \n",
      " 35  SEGLANEKEY      194673 non-null  int64  \n",
      " 36  CROSSWALKKEY    194673 non-null  int64  \n",
      " 37  HITPARKEDCAR    194673 non-null  object \n",
      "dtypes: float64(4), int64(12), object(22)\n",
      "memory usage: 56.4+ MB\n"
     ]
    }
   ],
   "source": [
    "df_master.info()"
   ]
  },
  {
   "cell_type": "markdown",
   "metadata": {},
   "source": [
    "**A total of 37 columns with a number of attributes containing missing values. Most of them are classified as categorical (object)**"
   ]
  },
  {
   "cell_type": "code",
   "execution_count": 6,
   "metadata": {},
   "outputs": [
    {
     "data": {
      "text/plain": [
       "(194673, 38)"
      ]
     },
     "execution_count": 6,
     "metadata": {},
     "output_type": "execute_result"
    }
   ],
   "source": [
    "df_master.shape"
   ]
  },
  {
   "cell_type": "markdown",
   "metadata": {},
   "source": [
    "**A fairly large amount of data with over 190,000 rows**"
   ]
  },
  {
   "cell_type": "code",
   "execution_count": 7,
   "metadata": {},
   "outputs": [
    {
     "data": {
      "text/plain": [
       "1    136485\n",
       "2     58188\n",
       "Name: SEVERITYCODE, dtype: int64"
      ]
     },
     "execution_count": 7,
     "metadata": {},
     "output_type": "execute_result"
    }
   ],
   "source": [
    "df_master['SEVERITYCODE'].value_counts()"
   ]
  },
  {
   "cell_type": "markdown",
   "metadata": {},
   "source": [
    "**The available data indicates that there are only 2 types of cases: (1) - prop damage and (2) - injury. Property damage accounts for about 70% of the cases, which makes the dataset unbalanced. This needs to be addressed by resampling before training the featured dataset**"
   ]
  },
  {
   "cell_type": "code",
   "execution_count": 8,
   "metadata": {},
   "outputs": [],
   "source": [
    "#Replace blank value with NaN\n",
    "\n",
    "df_master.replace (\" \", np.nan, inplace=True)"
   ]
  },
  {
   "cell_type": "markdown",
   "metadata": {},
   "source": [
    "**Empty cells were already populated with NaN, however we need to make sure that this is true**"
   ]
  },
  {
   "cell_type": "code",
   "execution_count": 9,
   "metadata": {},
   "outputs": [],
   "source": [
    "# Assign missing_data to check for missing data in table\n",
    "\n",
    "missing_data = df_master.isnull()"
   ]
  },
  {
   "cell_type": "code",
   "execution_count": 10,
   "metadata": {
    "scrolled": false
   },
   "outputs": [
    {
     "name": "stdout",
     "output_type": "stream",
     "text": [
      "SEVERITYCODE\n",
      "False    194673\n",
      "Name: SEVERITYCODE, dtype: int64\n",
      "\n",
      "X\n",
      "False    189339\n",
      "True       5334\n",
      "Name: X, dtype: int64\n",
      "\n",
      "Y\n",
      "False    189339\n",
      "True       5334\n",
      "Name: Y, dtype: int64\n",
      "\n",
      "OBJECTID\n",
      "False    194673\n",
      "Name: OBJECTID, dtype: int64\n",
      "\n",
      "INCKEY\n",
      "False    194673\n",
      "Name: INCKEY, dtype: int64\n",
      "\n",
      "COLDETKEY\n",
      "False    194673\n",
      "Name: COLDETKEY, dtype: int64\n",
      "\n",
      "REPORTNO\n",
      "False    194673\n",
      "Name: REPORTNO, dtype: int64\n",
      "\n",
      "STATUS\n",
      "False    194673\n",
      "Name: STATUS, dtype: int64\n",
      "\n",
      "ADDRTYPE\n",
      "False    192747\n",
      "True       1926\n",
      "Name: ADDRTYPE, dtype: int64\n",
      "\n",
      "INTKEY\n",
      "True     129603\n",
      "False     65070\n",
      "Name: INTKEY, dtype: int64\n",
      "\n",
      "LOCATION\n",
      "False    191996\n",
      "True       2677\n",
      "Name: LOCATION, dtype: int64\n",
      "\n",
      "EXCEPTRSNCODE\n",
      "True     189035\n",
      "False      5638\n",
      "Name: EXCEPTRSNCODE, dtype: int64\n",
      "\n",
      "EXCEPTRSNDESC\n",
      "True     189035\n",
      "False      5638\n",
      "Name: EXCEPTRSNDESC, dtype: int64\n",
      "\n",
      "SEVERITYCODE.1\n",
      "False    194673\n",
      "Name: SEVERITYCODE.1, dtype: int64\n",
      "\n",
      "SEVERITYDESC\n",
      "False    194673\n",
      "Name: SEVERITYDESC, dtype: int64\n",
      "\n",
      "COLLISIONTYPE\n",
      "False    189769\n",
      "True       4904\n",
      "Name: COLLISIONTYPE, dtype: int64\n",
      "\n",
      "PERSONCOUNT\n",
      "False    194673\n",
      "Name: PERSONCOUNT, dtype: int64\n",
      "\n",
      "PEDCOUNT\n",
      "False    194673\n",
      "Name: PEDCOUNT, dtype: int64\n",
      "\n",
      "PEDCYLCOUNT\n",
      "False    194673\n",
      "Name: PEDCYLCOUNT, dtype: int64\n",
      "\n",
      "VEHCOUNT\n",
      "False    194673\n",
      "Name: VEHCOUNT, dtype: int64\n",
      "\n",
      "INCDATE\n",
      "False    194673\n",
      "Name: INCDATE, dtype: int64\n",
      "\n",
      "INCDTTM\n",
      "False    194673\n",
      "Name: INCDTTM, dtype: int64\n",
      "\n",
      "JUNCTIONTYPE\n",
      "False    188344\n",
      "True       6329\n",
      "Name: JUNCTIONTYPE, dtype: int64\n",
      "\n",
      "SDOT_COLCODE\n",
      "False    194673\n",
      "Name: SDOT_COLCODE, dtype: int64\n",
      "\n",
      "SDOT_COLDESC\n",
      "False    194673\n",
      "Name: SDOT_COLDESC, dtype: int64\n",
      "\n",
      "INATTENTIONIND\n",
      "True     164868\n",
      "False     29805\n",
      "Name: INATTENTIONIND, dtype: int64\n",
      "\n",
      "UNDERINFL\n",
      "False    189789\n",
      "True       4884\n",
      "Name: UNDERINFL, dtype: int64\n",
      "\n",
      "WEATHER\n",
      "False    189592\n",
      "True       5081\n",
      "Name: WEATHER, dtype: int64\n",
      "\n",
      "ROADCOND\n",
      "False    189661\n",
      "True       5012\n",
      "Name: ROADCOND, dtype: int64\n",
      "\n",
      "LIGHTCOND\n",
      "False    189503\n",
      "True       5170\n",
      "Name: LIGHTCOND, dtype: int64\n",
      "\n",
      "PEDROWNOTGRNT\n",
      "True     190006\n",
      "False      4667\n",
      "Name: PEDROWNOTGRNT, dtype: int64\n",
      "\n",
      "SDOTCOLNUM\n",
      "False    114936\n",
      "True      79737\n",
      "Name: SDOTCOLNUM, dtype: int64\n",
      "\n",
      "SPEEDING\n",
      "True     185340\n",
      "False      9333\n",
      "Name: SPEEDING, dtype: int64\n",
      "\n",
      "ST_COLCODE\n",
      "False    189769\n",
      "True       4904\n",
      "Name: ST_COLCODE, dtype: int64\n",
      "\n",
      "ST_COLDESC\n",
      "False    189769\n",
      "True       4904\n",
      "Name: ST_COLDESC, dtype: int64\n",
      "\n",
      "SEGLANEKEY\n",
      "False    194673\n",
      "Name: SEGLANEKEY, dtype: int64\n",
      "\n",
      "CROSSWALKKEY\n",
      "False    194673\n",
      "Name: CROSSWALKKEY, dtype: int64\n",
      "\n",
      "HITPARKEDCAR\n",
      "False    194673\n",
      "Name: HITPARKEDCAR, dtype: int64\n",
      "\n"
     ]
    }
   ],
   "source": [
    "#To count missing values in each column\n",
    "#Use for loop method \n",
    "\n",
    "for column in missing_data.columns.values.tolist():\n",
    "  print (column)\n",
    "  print (missing_data[column].value_counts())\n",
    "  print (\"\")\n"
   ]
  },
  {
   "cell_type": "code",
   "execution_count": 11,
   "metadata": {},
   "outputs": [],
   "source": [
    "# 1. X True       5334\n",
    "# 2. Y True       5334\n",
    "# 3. ADDRTYPE True       1926\n",
    "# 4. INTKEY True     129603\n",
    "# 5. LOCATION True       2677\n",
    "# 6. EXCEPTRSNCODE True     109862\n",
    "# 7. EXCEPTRSNDESC True     189035\n",
    "# 8. COLLISIONTYPE True       4904\n",
    "# 9. JUNCTIONTYPE True       6329\n",
    "# 10. INATTENTIONIND True     164868\n",
    "# 11. UNDERINFL True       4884\n",
    "# 12. WEATHER True       5081\n",
    "# 13. ROADCOND True       5012\n",
    "# 14. LIGHTCOND True       5170\n",
    "# 15. PEDROWNOTGRNT True     190006\n",
    "# 16. SDOTCOLNUM True      79737\n",
    "# 17. SPEEDING True     185340\n",
    "# 18. ST_COLCODE True       4904\n",
    "# 19. ST_COLDESC True       4904\n",
    "\n",
    " \n",
    "\n"
   ]
  },
  {
   "cell_type": "markdown",
   "metadata": {},
   "source": [
    "**A summary of missing values and counts (if True exists). 19 attributes have missing values 'NaN' and we need to either fill them or discard them depending on the situation**"
   ]
  },
  {
   "cell_type": "markdown",
   "metadata": {},
   "source": [
    "### Data cleaning"
   ]
  },
  {
   "cell_type": "code",
   "execution_count": 12,
   "metadata": {},
   "outputs": [],
   "source": [
    "#Drop \"INTKEY\", \"EXCEPTRSNCODE\", \"EXCEPTRSNDESC\", \"INATTENTIONIND\", \"PEDROWNOTGRNT\",\"SPEEDING\"  \n",
    "\n",
    "df_master.drop([\"INTKEY\", \"EXCEPTRSNCODE\", \"EXCEPTRSNDESC\", \"INATTENTIONIND\", \"PEDROWNOTGRNT\", \"SPEEDING\"], axis=1, inplace=True)"
   ]
  },
  {
   "cell_type": "markdown",
   "metadata": {},
   "source": [
    "**We can first removed those that have excessive missing data (More than half)**"
   ]
  },
  {
   "cell_type": "code",
   "execution_count": 13,
   "metadata": {},
   "outputs": [
    {
     "data": {
      "text/plain": [
       "Index(['SEVERITYCODE', 'UNDERINFL', 'WEATHER', 'ROADCOND', 'LIGHTCOND'], dtype='object')"
      ]
     },
     "execution_count": 13,
     "metadata": {},
     "output_type": "execute_result"
    }
   ],
   "source": [
    "#Drop the following attributes as they do not add further value to the analysis\n",
    "\n",
    "df_master.drop([\"X\", \"Y\", \"OBJECTID\",\"INCKEY\", \"COLDETKEY\", \"REPORTNO\", \"STATUS\", \"ADDRTYPE\", \"LOCATION\",\"SDOTCOLNUM\", \"SEVERITYCODE.1\", \"SEVERITYDESC\", \"COLLISIONTYPE\", \"PERSONCOUNT\", \"PEDCOUNT\", \"PEDCYLCOUNT\", \"VEHCOUNT\", \"INCDATE\", \"INCDTTM\", \"JUNCTIONTYPE\", \"SDOT_COLDESC\", \"SDOT_COLCODE\", \"ST_COLDESC\", \"SDOTCOLNUM\", \"ST_COLCODE\", \"ST_COLDESC\", \"SEGLANEKEY\", \"CROSSWALKKEY\", \"HITPARKEDCAR\"], axis=1, inplace=True)\n",
    "\n",
    "df_master.columns"
   ]
  },
  {
   "cell_type": "markdown",
   "metadata": {},
   "source": [
    "**The dropped atrributes are as a result of the accidents, rather than the cause and hence provides little to no value to our analysis. We now have 4 independent variables and 1 independent variable. Of note, all of the attributes are categorical and only \"UNDERINFL\" (under influence) is considered to be caused by human behavior**"
   ]
  },
  {
   "cell_type": "code",
   "execution_count": 14,
   "metadata": {},
   "outputs": [
    {
     "data": {
      "text/plain": [
       "Clear                       111135\n",
       "Raining                      33145\n",
       "Overcast                     27714\n",
       "Unknown                      15091\n",
       "Snowing                        907\n",
       "Other                          832\n",
       "Fog/Smog/Smoke                 569\n",
       "Sleet/Hail/Freezing Rain       113\n",
       "Blowing Sand/Dirt               56\n",
       "Severe Crosswind                25\n",
       "Partly Cloudy                    5\n",
       "Name: WEATHER, dtype: int64"
      ]
     },
     "execution_count": 14,
     "metadata": {},
     "output_type": "execute_result"
    }
   ],
   "source": [
    "#Calculate frequency of values for \"WEATHER\"\n",
    "\n",
    "df_master[\"WEATHER\"].value_counts()"
   ]
  },
  {
   "cell_type": "code",
   "execution_count": 15,
   "metadata": {},
   "outputs": [],
   "source": [
    "#Replace NaN with \"Clear\"\n",
    "\n",
    "df_master[\"WEATHER\"].replace(np.nan, \"Clear\", inplace=True)"
   ]
  },
  {
   "cell_type": "code",
   "execution_count": 16,
   "metadata": {},
   "outputs": [
    {
     "data": {
      "text/plain": [
       "Daylight                    116137\n",
       "Dark - Street Lights On      48507\n",
       "Unknown                      13473\n",
       "Dusk                          5902\n",
       "Dawn                          2502\n",
       "Dark - No Street Lights       1537\n",
       "Dark - Street Lights Off      1199\n",
       "Other                          235\n",
       "Dark - Unknown Lighting         11\n",
       "Name: LIGHTCOND, dtype: int64"
      ]
     },
     "execution_count": 16,
     "metadata": {},
     "output_type": "execute_result"
    }
   ],
   "source": [
    "#Calculate frequency of values for \"WEATHER\"\n",
    "\n",
    "df_master[\"LIGHTCOND\"].value_counts()"
   ]
  },
  {
   "cell_type": "code",
   "execution_count": 17,
   "metadata": {},
   "outputs": [],
   "source": [
    "#Replace Nan with \"Daylight\"\n",
    "\n",
    "df_master[\"LIGHTCOND\"].replace(np.nan, \"Daylight\", inplace=True)"
   ]
  },
  {
   "cell_type": "code",
   "execution_count": 18,
   "metadata": {},
   "outputs": [
    {
     "data": {
      "text/plain": [
       "Dry               124510\n",
       "Wet                47474\n",
       "Unknown            15078\n",
       "Ice                 1209\n",
       "Snow/Slush          1004\n",
       "Other                132\n",
       "Standing Water       115\n",
       "Sand/Mud/Dirt         75\n",
       "Oil                   64\n",
       "Name: ROADCOND, dtype: int64"
      ]
     },
     "execution_count": 18,
     "metadata": {},
     "output_type": "execute_result"
    }
   ],
   "source": [
    "#Calculate frequency of values for \"ROADCOND\"\n",
    "\n",
    "df_master[\"ROADCOND\"].value_counts()"
   ]
  },
  {
   "cell_type": "code",
   "execution_count": 19,
   "metadata": {},
   "outputs": [],
   "source": [
    "#Replace Nan with \"Dry\"\n",
    "\n",
    "df_master[\"ROADCOND\"].replace(np.nan, \"Dry\", inplace=True)"
   ]
  },
  {
   "cell_type": "markdown",
   "metadata": {},
   "source": [
    "**Missing data are filled with mode of the dataset**"
   ]
  },
  {
   "cell_type": "code",
   "execution_count": 20,
   "metadata": {},
   "outputs": [],
   "source": [
    "#For \"UNDERINFL\", mix of \"Y\" and \"N\" and 1 and 0 found. Change \"Y\" to 1 and \"No\" to 0 \n",
    "\n",
    "df_master[\"UNDERINFL\"].replace(\"Y\", \"1\", inplace=True)\n",
    "df_master[\"UNDERINFL\"].replace(\"N\", \"0\", inplace=True)"
   ]
  },
  {
   "cell_type": "markdown",
   "metadata": {},
   "source": [
    "**For this variable, it was found to have a mixed of binary numbers and strings. Here we assume Y = 1, N = 0**"
   ]
  },
  {
   "cell_type": "code",
   "execution_count": 21,
   "metadata": {},
   "outputs": [],
   "source": [
    "# Remove rows with empty \"UNDERINFL\" values \n",
    "df_master.dropna(subset=[\"UNDERINFL\"], axis=0, inplace=True)"
   ]
  },
  {
   "cell_type": "markdown",
   "metadata": {},
   "source": [
    "**Missing data cannot be replaced as the it's too specific for the analysis**"
   ]
  },
  {
   "cell_type": "code",
   "execution_count": 22,
   "metadata": {},
   "outputs": [
    {
     "name": "stdout",
     "output_type": "stream",
     "text": [
      "SEVERITYCODE\n",
      "False    189789\n",
      "Name: SEVERITYCODE, dtype: int64\n",
      "\n",
      "UNDERINFL\n",
      "False    189789\n",
      "Name: UNDERINFL, dtype: int64\n",
      "\n",
      "WEATHER\n",
      "False    189789\n",
      "Name: WEATHER, dtype: int64\n",
      "\n",
      "ROADCOND\n",
      "False    189789\n",
      "Name: ROADCOND, dtype: int64\n",
      "\n",
      "LIGHTCOND\n",
      "False    189789\n",
      "Name: LIGHTCOND, dtype: int64\n",
      "\n"
     ]
    }
   ],
   "source": [
    "#Final check on missing data\n",
    "\n",
    "missing_data = df_master.isnull()\n",
    "for column in missing_data.columns.values.tolist():\n",
    "  print (column)\n",
    "  print (missing_data[column].value_counts())\n",
    "  print (\"\")"
   ]
  },
  {
   "cell_type": "markdown",
   "metadata": {},
   "source": [
    "**Now there are no more missing data in the table and we now have a list of key features extracted for our modeling**"
   ]
  },
  {
   "cell_type": "code",
   "execution_count": 23,
   "metadata": {},
   "outputs": [],
   "source": [
    "#Given that our target variable only has 2 values , 1 or 2, changing to 0 to 1 makes it binary. therefore now 0 = prop damage and 1 = injury \n",
    "\n",
    "df_master[\"SEVERITYCODE\"].replace(1, 0, inplace=True)"
   ]
  },
  {
   "cell_type": "code",
   "execution_count": 24,
   "metadata": {},
   "outputs": [],
   "source": [
    "df_master[\"SEVERITYCODE\"].replace(2, 1, inplace=True)"
   ]
  },
  {
   "cell_type": "code",
   "execution_count": 25,
   "metadata": {},
   "outputs": [
    {
     "data": {
      "text/plain": [
       "0    132630\n",
       "1     57159\n",
       "Name: SEVERITYCODE, dtype: int64"
      ]
     },
     "execution_count": 25,
     "metadata": {},
     "output_type": "execute_result"
    }
   ],
   "source": [
    "df_master[\"SEVERITYCODE\"].value_counts()"
   ]
  },
  {
   "cell_type": "code",
   "execution_count": 26,
   "metadata": {},
   "outputs": [
    {
     "data": {
      "text/plain": [
       "(189789, 5)"
      ]
     },
     "execution_count": 26,
     "metadata": {},
     "output_type": "execute_result"
    }
   ],
   "source": [
    "df_master.shape"
   ]
  },
  {
   "cell_type": "markdown",
   "metadata": {},
   "source": [
    "**The number of rows has been reduced to 189,789 and the codes for \"SEVERRITYCODE\" is converted to 1s and 0s**"
   ]
  },
  {
   "cell_type": "markdown",
   "metadata": {},
   "source": [
    "### Exploratory Data Analysis"
   ]
  },
  {
   "cell_type": "code",
   "execution_count": 27,
   "metadata": {},
   "outputs": [],
   "source": [
    "%%capture\n",
    "! pip install seaborn"
   ]
  },
  {
   "cell_type": "code",
   "execution_count": 28,
   "metadata": {},
   "outputs": [],
   "source": [
    "import matplotlib.pyplot as plt\n",
    "import seaborn as sns\n",
    "%matplotlib inline"
   ]
  },
  {
   "cell_type": "code",
   "execution_count": 29,
   "metadata": {},
   "outputs": [
    {
     "data": {
      "text/plain": [
       "Text(0.5, 1.0, 'Number of cases due to drink driving')"
      ]
     },
     "execution_count": 29,
     "metadata": {},
     "output_type": "execute_result"
    },
    {
     "data": {
      "image/png": "[encoded data removed]",
      "text/plain": [
       "<Figure size 432x288 with 1 Axes>"
      ]
     },
     "metadata": {
      "needs_background": "light"
     },
     "output_type": "display_data"
    }
   ],
   "source": [
    "sns.countplot(x=\"UNDERINFL\", data=df_master)\n",
    "\n",
    "plt.xticks(rotation=90)\n",
    "plt.xlabel(\"Under Influence\")\n",
    "plt.ylabel(\"Count\")\n",
    "plt.title(\"Number of cases due to drink driving\")"
   ]
  },
  {
   "cell_type": "markdown",
   "metadata": {},
   "source": [
    "**A significant number of accidents were in fact NOT caused by driving under influence. This suggests that most of the cases are as a result of the external environment, which is not under the control of the drivers**"
   ]
  },
  {
   "cell_type": "code",
   "execution_count": 30,
   "metadata": {},
   "outputs": [
    {
     "data": {
      "text/plain": [
       "Text(0.5, 1.0, 'Count value of Weather types')"
      ]
     },
     "execution_count": 30,
     "metadata": {},
     "output_type": "execute_result"
    },
    {
     "data": {
      "image/png": "[encoded data removed]",
      "text/plain": [
       "<Figure size 432x288 with 1 Axes>"
      ]
     },
     "metadata": {
      "needs_background": "light"
     },
     "output_type": "display_data"
    }
   ],
   "source": [
    "sns.countplot(x=\"WEATHER\", data=df_master)\n",
    "\n",
    "plt.xticks(rotation=90)\n",
    "plt.xlabel(\"WEATHER\")\n",
    "plt.ylabel(\"Count\")\n",
    "plt.title(\"Count value of Weather types\")"
   ]
  },
  {
   "cell_type": "markdown",
   "metadata": {},
   "source": [
    "**Interestingly, the accidents happened most of the time under clear weather conditions. Seattle is known for it's Pacific Northwest climate, where it rains most of the time of the year except for the summer season. This could also mean that drivers are more likely travel outside during summer period and therefore accidents are more likely to increase. A possible solutions is for SDOT to enforce more of the safety messages during the summer season.**"
   ]
  },
  {
   "cell_type": "code",
   "execution_count": 31,
   "metadata": {},
   "outputs": [
    {
     "data": {
      "text/plain": [
       "Text(0.5, 1.0, 'Count value of Road conditions')"
      ]
     },
     "execution_count": 31,
     "metadata": {},
     "output_type": "execute_result"
    },
    {
     "data": {
      "image/png": "[encoded data removed]",
      "text/plain": [
       "<Figure size 432x288 with 1 Axes>"
      ]
     },
     "metadata": {
      "needs_background": "light"
     },
     "output_type": "display_data"
    }
   ],
   "source": [
    "sns.countplot(x=\"ROADCOND\", data=df_master)\n",
    "\n",
    "plt.xticks(rotation=90)\n",
    "plt.xlabel(\"Road Conditions\")\n",
    "plt.ylabel(\"Count\")\n",
    "plt.title(\"Count value of Road conditions\")"
   ]
  },
  {
   "cell_type": "markdown",
   "metadata": {},
   "source": [
    "**There should be a strong correlation between road conditions and weather given that a dry road conditions is due to a clear weather. This again is a strong indication that majority of the accidents happened in dry and clear weather**"
   ]
  },
  {
   "cell_type": "code",
   "execution_count": 32,
   "metadata": {},
   "outputs": [
    {
     "data": {
      "text/plain": [
       "Text(0.5, 1.0, 'Count value of Light conditions')"
      ]
     },
     "execution_count": 32,
     "metadata": {},
     "output_type": "execute_result"
    },
    {
     "data": {
      "image/png": "[encoded data removed]",
      "text/plain": [
       "<Figure size 432x288 with 1 Axes>"
      ]
     },
     "metadata": {
      "needs_background": "light"
     },
     "output_type": "display_data"
    }
   ],
   "source": [
    "sns.countplot(x=\"LIGHTCOND\", data=df_master)\n",
    "\n",
    "plt.xticks(rotation=90)\n",
    "plt.xlabel(\"Light Conditions\")\n",
    "plt.ylabel(\"Count\")\n",
    "plt.title(\"Count value of Light conditions\")"
   ]
  },
  {
   "cell_type": "markdown",
   "metadata": {},
   "source": [
    "**Another interesting discovery: drivers tend to encounter accidents during daytime when their vision should be at their clearest. However we can also attribute this to the summer period, where daylight can last until 10 pm local time. This certainly will increase the risk of accidents happening under daylight conditions** "
   ]
  },
  {
   "cell_type": "markdown",
   "metadata": {},
   "source": [
    "### Preprocessing"
   ]
  },
  {
   "cell_type": "code",
   "execution_count": 33,
   "metadata": {},
   "outputs": [
    {
     "data": {
      "text/plain": [
       "1    57159\n",
       "0    57159\n",
       "Name: SEVERITYCODE, dtype: int64"
      ]
     },
     "execution_count": 33,
     "metadata": {},
     "output_type": "execute_result"
    }
   ],
   "source": [
    "#Shuffling the dataset\n",
    "df_random = df_master.sample(frac=1, random_state=4)\n",
    "\n",
    "#Place all the property Injury class in another dataset\n",
    "df_injury = df_random.loc[df_random[\"SEVERITYCODE\"] == 1]\n",
    "\n",
    "#Select 57159 observations from Property Damage class\n",
    "df_prop_damage = df_random.loc[df_random[\"SEVERITYCODE\"] == 0].sample(n=57159, random_state=4)\n",
    "\n",
    "#Join both the df to give the new balanced df\n",
    "df_master_2 = pd.concat([df_injury, df_prop_damage])\n",
    "\n",
    "df_master_2[\"SEVERITYCODE\"].value_counts()\n"
   ]
  },
  {
   "cell_type": "markdown",
   "metadata": {},
   "source": [
    "**As observed earlier, the dataset is not well-balanced because property damage (0) accounts for about 70% of the accidents. We apply undersampling technique to the dataset and now it looks more balanced, with 50% for both classes. This will improve the quality and performance of the generated models**"
   ]
  },
  {
   "cell_type": "code",
   "execution_count": 34,
   "metadata": {},
   "outputs": [
    {
     "data": {
      "text/html": [
       "<div>\n",
       "<style scoped>\n",
       "    .dataframe tbody tr th:only-of-type {\n",
       "        vertical-align: middle;\n",
       "    }\n",
       "\n",
       "    .dataframe tbody tr th {\n",
       "        vertical-align: top;\n",
       "    }\n",
       "\n",
       "    .dataframe thead th {\n",
       "        text-align: right;\n",
       "    }\n",
       "</style>\n",
       "<table border=\"1\" class=\"dataframe\">\n",
       "  <thead>\n",
       "    <tr style=\"text-align: right;\">\n",
       "      <th></th>\n",
       "      <th>SEVERITYCODE</th>\n",
       "      <th>UNDERINFL</th>\n",
       "      <th>WEATHER</th>\n",
       "      <th>ROADCOND</th>\n",
       "      <th>LIGHTCOND</th>\n",
       "    </tr>\n",
       "  </thead>\n",
       "  <tbody>\n",
       "    <tr>\n",
       "      <th>82581</th>\n",
       "      <td>1</td>\n",
       "      <td>0</td>\n",
       "      <td>Clear</td>\n",
       "      <td>Dry</td>\n",
       "      <td>Daylight</td>\n",
       "    </tr>\n",
       "    <tr>\n",
       "      <th>169413</th>\n",
       "      <td>1</td>\n",
       "      <td>0</td>\n",
       "      <td>Clear</td>\n",
       "      <td>Dry</td>\n",
       "      <td>Daylight</td>\n",
       "    </tr>\n",
       "    <tr>\n",
       "      <th>6054</th>\n",
       "      <td>1</td>\n",
       "      <td>0</td>\n",
       "      <td>Clear</td>\n",
       "      <td>Dry</td>\n",
       "      <td>Daylight</td>\n",
       "    </tr>\n",
       "    <tr>\n",
       "      <th>6134</th>\n",
       "      <td>1</td>\n",
       "      <td>0</td>\n",
       "      <td>Clear</td>\n",
       "      <td>Unknown</td>\n",
       "      <td>Dark - Street Lights On</td>\n",
       "    </tr>\n",
       "    <tr>\n",
       "      <th>92424</th>\n",
       "      <td>1</td>\n",
       "      <td>0</td>\n",
       "      <td>Clear</td>\n",
       "      <td>Dry</td>\n",
       "      <td>Dark - Street Lights On</td>\n",
       "    </tr>\n",
       "  </tbody>\n",
       "</table>\n",
       "</div>"
      ],
      "text/plain": [
       "        SEVERITYCODE UNDERINFL WEATHER ROADCOND                LIGHTCOND\n",
       "82581              1         0   Clear      Dry                 Daylight\n",
       "169413             1         0   Clear      Dry                 Daylight\n",
       "6054               1         0   Clear      Dry                 Daylight\n",
       "6134               1         0   Clear  Unknown  Dark - Street Lights On\n",
       "92424              1         0   Clear      Dry  Dark - Street Lights On"
      ]
     },
     "execution_count": 34,
     "metadata": {},
     "output_type": "execute_result"
    }
   ],
   "source": [
    "df_master_2.head(5)"
   ]
  },
  {
   "cell_type": "code",
   "execution_count": 35,
   "metadata": {},
   "outputs": [
    {
     "data": {
      "text/plain": [
       "array([['Clear', 'Dry', 'Daylight', '0'],\n",
       "       ['Clear', 'Dry', 'Daylight', '0'],\n",
       "       ['Clear', 'Dry', 'Daylight', '0'],\n",
       "       ['Clear', 'Unknown', 'Dark - Street Lights On', '0'],\n",
       "       ['Clear', 'Dry', 'Dark - Street Lights On', '0']], dtype=object)"
      ]
     },
     "execution_count": 35,
     "metadata": {},
     "output_type": "execute_result"
    }
   ],
   "source": [
    "# Designate the X variables for our model\n",
    "\n",
    "X = df_master_2[[\"WEATHER\", \"ROADCOND\", \"LIGHTCOND\", \"UNDERINFL\"]].values\n",
    "X[0:5]"
   ]
  },
  {
   "cell_type": "code",
   "execution_count": 36,
   "metadata": {},
   "outputs": [],
   "source": [
    "# Convert the X variables to dummy variables since ML models cannot handle categorical variables\n",
    "from sklearn.preprocessing import OneHotEncoder\n",
    "\n",
    "#Instantiate OneHotEncoder\n",
    "ohe = OneHotEncoder(sparse=False)\n",
    "\n",
    "#Apply ohe to the categorical columns\n",
    "X_ohe = ohe.fit_transform(X)"
   ]
  },
  {
   "cell_type": "code",
   "execution_count": 37,
   "metadata": {},
   "outputs": [
    {
     "data": {
      "text/plain": [
       "array([[0., 1., 0., 0., 0., 0., 0., 0., 0., 0., 0., 1., 0., 0., 0., 0.,\n",
       "        0., 0., 0., 0., 0., 0., 0., 0., 0., 1., 0., 0., 0., 1., 0.],\n",
       "       [0., 1., 0., 0., 0., 0., 0., 0., 0., 0., 0., 1., 0., 0., 0., 0.,\n",
       "        0., 0., 0., 0., 0., 0., 0., 0., 0., 1., 0., 0., 0., 1., 0.]])"
      ]
     },
     "execution_count": 37,
     "metadata": {},
     "output_type": "execute_result"
    }
   ],
   "source": [
    "X_ohe[0:2]\n"
   ]
  },
  {
   "cell_type": "code",
   "execution_count": 38,
   "metadata": {},
   "outputs": [
    {
     "data": {
      "text/plain": [
       "array([1, 1, 1, 1, 1], dtype=int64)"
      ]
     },
     "execution_count": 38,
     "metadata": {},
     "output_type": "execute_result"
    }
   ],
   "source": [
    "# Designate the y variables for our model\n",
    "\n",
    "y =np.asarray(df_master_2[\"SEVERITYCODE\"])\n",
    "y[0:5]"
   ]
  },
  {
   "cell_type": "markdown",
   "metadata": {},
   "source": [
    "**The X and y variables have been set up and is ready to be used to train and test the model**"
   ]
  },
  {
   "cell_type": "markdown",
   "metadata": {},
   "source": [
    "### Modeling\n"
   ]
  },
  {
   "cell_type": "markdown",
   "metadata": {},
   "source": [
    "Given that this is a classification prediction (whether certain conditions is likely to bring about either the two types of accidents), 3 suitable models are selected:"
   ]
  },
  {
   "cell_type": "markdown",
   "metadata": {},
   "source": [
    "**Decision Tree Analysis**"
   ]
  },
  {
   "cell_type": "code",
   "execution_count": 39,
   "metadata": {},
   "outputs": [],
   "source": [
    "#import packages to set up the decision tree\n",
    "from sklearn.tree import DecisionTreeClassifier\n",
    "from sklearn.model_selection import train_test_split\n"
   ]
  },
  {
   "cell_type": "code",
   "execution_count": 40,
   "metadata": {},
   "outputs": [
    {
     "name": "stdout",
     "output_type": "stream",
     "text": [
      "Train set: (91454, 31) (91454,)\n",
      "Test set: (22864, 31) (22864,)\n"
     ]
    }
   ],
   "source": [
    "#Splitting the training and test data set\n",
    "X_train, X_test, y_train, y_test = train_test_split( X_ohe, y, test_size=0.2, random_state=4)\n",
    "print ('Train set:', X_train.shape,  y_train.shape)\n",
    "print ('Test set:', X_test.shape,  y_test.shape)"
   ]
  },
  {
   "cell_type": "code",
   "execution_count": 41,
   "metadata": {},
   "outputs": [
    {
     "data": {
      "text/plain": [
       "DecisionTreeClassifier(criterion='entropy', max_depth=7)"
      ]
     },
     "execution_count": 41,
     "metadata": {},
     "output_type": "execute_result"
    }
   ],
   "source": [
    "#Building the Decision Tree\n",
    "SeverityTree = DecisionTreeClassifier(criterion=\"entropy\", max_depth=7)\n",
    "SeverityTree\n",
    "SeverityTree.fit(X_train,y_train)"
   ]
  },
  {
   "cell_type": "code",
   "execution_count": 42,
   "metadata": {},
   "outputs": [
    {
     "name": "stdout",
     "output_type": "stream",
     "text": [
      "[1 0 1 0 1]\n",
      "[1 0 1 1 0]\n"
     ]
    }
   ],
   "source": [
    "#Making prediction on test data\n",
    "predTree = SeverityTree.predict(X_test)\n",
    "print (predTree [0:5])\n",
    "print (y_test [0:5])"
   ]
  },
  {
   "cell_type": "markdown",
   "metadata": {},
   "source": [
    "**Logistic Regression**"
   ]
  },
  {
   "cell_type": "code",
   "execution_count": 43,
   "metadata": {},
   "outputs": [
    {
     "data": {
      "text/plain": [
       "LogisticRegression(C=0.01, solver='liblinear')"
      ]
     },
     "execution_count": 43,
     "metadata": {},
     "output_type": "execute_result"
    }
   ],
   "source": [
    "#Import packages for logistic regression\n",
    "from sklearn.linear_model import LogisticRegression\n",
    "LR = LogisticRegression(C=0.01, solver=\"liblinear\").fit(X_train,y_train)\n",
    "LR"
   ]
  },
  {
   "cell_type": "code",
   "execution_count": 44,
   "metadata": {},
   "outputs": [
    {
     "data": {
      "text/plain": [
       "array([1, 0, 1, ..., 1, 1, 1], dtype=int64)"
      ]
     },
     "execution_count": 44,
     "metadata": {},
     "output_type": "execute_result"
    }
   ],
   "source": [
    "#Predicting with test data\n",
    "LR_yhat = LR.predict(X_test)\n",
    "LR_yhat"
   ]
  },
  {
   "cell_type": "code",
   "execution_count": 45,
   "metadata": {},
   "outputs": [
    {
     "data": {
      "text/plain": [
       "array([[0.46480322, 0.53519678],\n",
       "       [0.57577881, 0.42422119],\n",
       "       [0.46480322, 0.53519678],\n",
       "       ...,\n",
       "       [0.46480322, 0.53519678],\n",
       "       [0.46480322, 0.53519678],\n",
       "       [0.46480322, 0.53519678]])"
      ]
     },
     "execution_count": 45,
     "metadata": {},
     "output_type": "execute_result"
    }
   ],
   "source": [
    "#Run probability of predictability\n",
    "LR_yhat_prob = LR.predict_proba(X_test)\n",
    "LR_yhat_prob"
   ]
  },
  {
   "cell_type": "markdown",
   "metadata": {},
   "source": [
    "**KNN**"
   ]
  },
  {
   "cell_type": "code",
   "execution_count": 46,
   "metadata": {},
   "outputs": [
    {
     "data": {
      "text/plain": [
       "array([0.55239678, 0.51447691, 0.54312456, 0.55440868, 0.55672673,\n",
       "       0.54216235, 0.54430546, 0.50345521, 0.54504899])"
      ]
     },
     "execution_count": 46,
     "metadata": {},
     "output_type": "execute_result"
    }
   ],
   "source": [
    "#Import packages for KNN analysis\n",
    "from sklearn.neighbors import KNeighborsClassifier\n",
    "from sklearn import metrics\n",
    "\n",
    "Ks = 10\n",
    "mean_acc = np.zeros((Ks-1))\n",
    "std_acc = np.zeros((Ks-1))\n",
    "ConfustionMx = [];\n",
    "for n in range(1,Ks):\n",
    "\n",
    "    neigh = KNeighborsClassifier(n_neighbors = n).fit(X_train,y_train)\n",
    "    yhat=neigh.predict(X_test)\n",
    "    mean_acc[n-1] = metrics.accuracy_score(y_test, yhat)\n",
    "\n",
    "    \n",
    "    std_acc[n-1]=np.std(yhat==y_test)/np.sqrt(yhat.shape[0])\n",
    "\n",
    "mean_acc"
   ]
  },
  {
   "cell_type": "code",
   "execution_count": 47,
   "metadata": {},
   "outputs": [
    {
     "data": {
      "image/png": "[encoded data removed]",
      "text/plain": [
       "<Figure size 432x288 with 1 Axes>"
      ]
     },
     "metadata": {
      "needs_background": "light"
     },
     "output_type": "display_data"
    }
   ],
   "source": [
    "plt.plot(range(1,Ks),mean_acc,'g')\n",
    "plt.fill_between(range(1,Ks),mean_acc - 1 * std_acc,mean_acc + 1 * std_acc, alpha=0.10)\n",
    "plt.legend(('Accuracy ', '+/- 3xstd'))\n",
    "plt.ylabel('Accuracy ')\n",
    "plt.xlabel('Number of Nabors (K)')\n",
    "plt.tight_layout()\n",
    "plt.show()"
   ]
  },
  {
   "cell_type": "code",
   "execution_count": 48,
   "metadata": {},
   "outputs": [
    {
     "name": "stdout",
     "output_type": "stream",
     "text": [
      "The best accuracy was with 0.5567267319804059 with k= 5\n"
     ]
    }
   ],
   "source": [
    "print( \"The best accuracy was with\", mean_acc.max(), \"with k=\", mean_acc.argmax()+1) "
   ]
  },
  {
   "cell_type": "code",
   "execution_count": 49,
   "metadata": {},
   "outputs": [
    {
     "data": {
      "text/plain": [
       "KNeighborsClassifier()"
      ]
     },
     "execution_count": 49,
     "metadata": {},
     "output_type": "execute_result"
    }
   ],
   "source": [
    "#Use k=5 for our KNN model\n",
    "k = 5\n",
    "\n",
    "neigh = KNeighborsClassifier(n_neighbors = k).fit(X_train,y_train)\n",
    "neigh"
   ]
  },
  {
   "cell_type": "code",
   "execution_count": 50,
   "metadata": {},
   "outputs": [
    {
     "data": {
      "text/plain": [
       "array([1, 1, 1, 1, 1], dtype=int64)"
      ]
     },
     "execution_count": 50,
     "metadata": {},
     "output_type": "execute_result"
    }
   ],
   "source": [
    "#Predicting the model using test set\n",
    "KNN_hat=neigh.predict(X_test)\n",
    "KNN_hat[0:5]"
   ]
  },
  {
   "cell_type": "markdown",
   "metadata": {},
   "source": [
    "### Evaluation"
   ]
  },
  {
   "cell_type": "markdown",
   "metadata": {},
   "source": [
    "To check the accuracy of the 3 models on the test sets, we will implement Jaccard index, F1-score, and LogLoss (for LR only)"
   ]
  },
  {
   "cell_type": "code",
   "execution_count": 51,
   "metadata": {},
   "outputs": [],
   "source": [
    "from sklearn.metrics import jaccard_score\n",
    "from sklearn.metrics import f1_score\n",
    "from sklearn.metrics import log_loss"
   ]
  },
  {
   "cell_type": "markdown",
   "metadata": {},
   "source": [
    "**Decision Tree Analysis**"
   ]
  },
  {
   "cell_type": "code",
   "execution_count": 52,
   "metadata": {},
   "outputs": [
    {
     "name": "stdout",
     "output_type": "stream",
     "text": [
      "Jaccard index: 0.49\n",
      "F1-score: 0.54\n"
     ]
    }
   ],
   "source": [
    "\n",
    "\n",
    "print(\"Jaccard index: %.2f\" % jaccard_score(y_test, predTree))\n",
    "print(\"F1-score: %.2f\" % f1_score(y_test, predTree, average='weighted') )"
   ]
  },
  {
   "cell_type": "markdown",
   "metadata": {},
   "source": [
    "**Logistic Regression**"
   ]
  },
  {
   "cell_type": "code",
   "execution_count": 53,
   "metadata": {},
   "outputs": [
    {
     "name": "stdout",
     "output_type": "stream",
     "text": [
      "LR Jaccard index: 0.49\n",
      "LR F1-score: 0.54\n",
      "LR LogLoss: 0.66\n"
     ]
    }
   ],
   "source": [
    "print(\"LR Jaccard index: %.2f\" % jaccard_score(y_test, LR_yhat))\n",
    "print(\"LR F1-score: %.2f\" % f1_score(y_test, LR_yhat, average='weighted') )\n",
    "print(\"LR LogLoss: %.2f\" % log_loss(y_test, LR_yhat_prob))"
   ]
  },
  {
   "cell_type": "markdown",
   "metadata": {},
   "source": [
    "**KNN**"
   ]
  },
  {
   "cell_type": "code",
   "execution_count": 54,
   "metadata": {},
   "outputs": [
    {
     "ename": "SyntaxError",
     "evalue": "invalid syntax (<ipython-input-54-a5c019437666>, line 1)",
     "output_type": "error",
     "traceback": [
      "\u001b[1;36m  File \u001b[1;32m\"<ipython-input-54-a5c019437666>\"\u001b[1;36m, line \u001b[1;32m1\u001b[0m\n\u001b[1;33m    Where k = 5,\u001b[0m\n\u001b[1;37m          ^\u001b[0m\n\u001b[1;31mSyntaxError\u001b[0m\u001b[1;31m:\u001b[0m invalid syntax\n"
     ]
    }
   ],
   "source": [
    "Where k = 5,\n",
    "\n",
    "print(\"Jaccard index: %.2f\" % jaccard_score(y_test, KNN_hat))\n",
    "print(\"F1-score: %.2f\" % f1_score(y_test, KNN_hat, average='weighted')) "
   ]
  },
  {
   "cell_type": "markdown",
   "metadata": {},
   "source": [
    "### Report and Results"
   ]
  },
  {
   "cell_type": "markdown",
   "metadata": {},
   "source": [
    "|Algorithm|Jaccard index|F1-score|Log Loss|\n",
    "|---------|:------------:|:--------:|:--------:|\n",
    "|Decision Tree|0.49|0.54|NA|\n",
    "|Logistic Regression|0.49|0.54|0.66|\n",
    "|KNN|0.45|0.54|NA|"
   ]
  },
  {
   "cell_type": "markdown",
   "metadata": {},
   "source": [
    "**When tested using the four evaluation models, the three algorithms performed fairly similar, with KNN giving a slightly score on the Jaccard index.** "
   ]
  },
  {
   "cell_type": "markdown",
   "metadata": {},
   "source": [
    "### Conclusion"
   ]
  },
  {
   "cell_type": "markdown",
   "metadata": {},
   "source": [
    "Based on the objectives of the analysis, four key features-drinking under influence, road conditions, light conditions and weather - were extracted from dataset provided. The data had be converted to numerical variables given that ski-kit learn ML only recognizes integers and floats. \n",
    "\n",
    "The data was then fed in to three algorithms and results suggest that deploying the Decision Tree or Logistic Regression algorithms to predict accident severity are good options.  \n",
    "\n",
    "With this predictive model, SDOT can better understand which day and time with specific weather conditions are at higher risks of traffic collisions. Bodily injuries can be better prevented once they transmit and reinforce safety messages to the drivers. In particular, they can allocate more resources during the summer season because as observed, the number of cases tend to be higher during the period.   "
   ]
  },
  {
   "cell_type": "code",
   "execution_count": null,
   "metadata": {},
   "outputs": [],
   "source": []
  }
 ],
 "metadata": {
  "kernelspec": {
   "display_name": "Python 3",
   "language": "python",
   "name": "python3"
  },
  "language_info": {
   "codemirror_mode": {
    "name": "ipython",
    "version": 3
   },
   "file_extension": ".py",
   "mimetype": "text/x-python",
   "name": "python",
   "nbconvert_exporter": "python",
   "pygments_lexer": "ipython3",
   "version": "3.8.3"
  }
 },
 "nbformat": 4,
 "nbformat_minor": 4
}
